{
 "cells": [
  {
   "cell_type": "markdown",
   "id": "0ee0246e-5d16-4aaa-a1b0-e2e6e002c594",
   "metadata": {},
   "source": [
    "## Week 7 Independent Manipulating Data \n",
    "By: Dean Wilson  \n",
    "Course: BGEN 632: Graduate Introduction to Python  \n",
    "Date: 20250415  "
   ]
  },
  {
   "cell_type": "markdown",
   "id": "636580b9-d9d7-4921-ac47-9f7aa9afca40",
   "metadata": {},
   "source": [
    "### Import Modules"
   ]
  },
  {
   "cell_type": "code",
   "execution_count": 38,
   "id": "827db567-c713-4e39-b873-50c894763302",
   "metadata": {},
   "outputs": [],
   "source": [
    "import os\n",
    "import pandas as pd"
   ]
  },
  {
   "cell_type": "markdown",
   "id": "2078790d-08e2-4c43-a7e3-8b007ebcb058",
   "metadata": {},
   "source": [
    "### Working Directory"
   ]
  },
  {
   "cell_type": "code",
   "execution_count": 39,
   "id": "c18327e7-585e-4e08-a14e-f8a2c9cffa1e",
   "metadata": {},
   "outputs": [],
   "source": [
    "os.chdir('C:\\\\Users\\\\deanb\\\\OneDrive\\\\Desktop\\\\Python Graduate Class\\\\Week 7\\\\week7labs-main\\\\data') # Establishing Working Directory"
   ]
  },
  {
   "cell_type": "markdown",
   "id": "9821e670-2d7c-4355-bb13-aa85683df152",
   "metadata": {},
   "source": [
    "### Data"
   ]
  },
  {
   "cell_type": "code",
   "execution_count": 40,
   "id": "1c073588-ccfb-4557-a270-782b9dd3ce12",
   "metadata": {},
   "outputs": [],
   "source": [
    "hospital_df = pd.read_csv('CaliforniaHospitalData.csv')\n",
    "personnel_df = pd.read_table('CaliforniaHospitalData_Personnel.txt') # Opening files"
   ]
  },
  {
   "cell_type": "markdown",
   "id": "e7c5371f-1244-48c4-905d-789e8d938b66",
   "metadata": {},
   "source": [
    "### Merging Data"
   ]
  },
  {
   "cell_type": "code",
   "execution_count": 41,
   "id": "dca44788-db5a-4628-9cc7-1d34db05ea87",
   "metadata": {},
   "outputs": [],
   "source": [
    "hospitalmerged_df = pd.merge(hospital_df, personnel_df, on='HospitalID', how='left') # Merge hospital_df and personnel_df on column HospitalID through hospitalmerged_df, had to use left to prevent columns from being deleted"
   ]
  },
  {
   "cell_type": "markdown",
   "id": "e8f44dbd-3787-4db3-9757-fdb86befd355",
   "metadata": {},
   "source": [
    "### Dropping Duplicate Columns"
   ]
  },
  {
   "cell_type": "code",
   "execution_count": 42,
   "id": "09d5309a-9663-4613-8a94-f63b8864b77d",
   "metadata": {},
   "outputs": [],
   "source": [
    "hospitalmerged_df.drop(['Work_ID', 'PositionID', 'Website'], axis=1, inplace=True) # Removed these columns permanently on our new merged_df "
   ]
  },
  {
   "cell_type": "markdown",
   "id": "1da95446-e4d9-415d-a9d2-9ddf39ecb3b7",
   "metadata": {},
   "source": [
    "### Filtering & Creating New File"
   ]
  },
  {
   "cell_type": "code",
   "execution_count": 43,
   "id": "f2b03991-c765-4876-a9ec-41875bafc736",
   "metadata": {},
   "outputs": [],
   "source": [
    "filtered_df = hospitalmerged_df[\n",
    "    (hospitalmerged_df['Teaching'] == 'Small/Rural') &\n",
    "    (hospitalmerged_df['AvlBeds'] >= 15) &\n",
    "    (hospitalmerged_df['OperInc'] >= 0)\n",
    "] # Filtered out hospitals that don't fit in these requirements\n",
    "filtered_df.to_csv('hospital_data_new.txt', sep='\\t', index=False) # Saved this filtered_df as a new file 'hospital_data_new' and it is tab seperated"
   ]
  },
  {
   "cell_type": "markdown",
   "id": "97086919-38fe-403c-9bb6-b4049d2a8942",
   "metadata": {},
   "source": [
    "### Opening New Created File"
   ]
  },
  {
   "cell_type": "code",
   "execution_count": 44,
   "id": "551bf871-58a1-4ddf-93de-82062d494d07",
   "metadata": {},
   "outputs": [],
   "source": [
    "hospitalnew_df = pd.read_csv('hospital_data_new.txt') # Loaded New txt file"
   ]
  },
  {
   "cell_type": "markdown",
   "id": "5f48dc15-be92-46b9-a166-28097bdac60e",
   "metadata": {},
   "source": [
    "### Renaming Columns"
   ]
  },
  {
   "cell_type": "code",
   "execution_count": 45,
   "id": "cefc351c-86ed-48e7-8823-98bbc6dbb05e",
   "metadata": {},
   "outputs": [],
   "source": [
    "hospitalnew_df.rename(columns = {\n",
    "    'NoFTE':'FullTimeCount', \n",
    "    'NetPatRev':'NetPatientRevenue', \n",
    "    'InOperExp':'InpatientOperExp',\n",
    "    'OutOperExp':'OutpatientOperExp',\n",
    "    'OperRev':'Operating_Revenue',\n",
    "    'OperInc':'Operating_Income'\n",
    "}, inplace=True) # Changed Column names and made it permanent, but it has corrupted dates, so I will have to redo this again, but leaving this here for credit."
   ]
  },
  {
   "cell_type": "markdown",
   "id": "d80082de-3acb-4c69-be3f-002361d7bafc",
   "metadata": {},
   "source": [
    "### Establishing Today DateTime"
   ]
  },
  {
   "cell_type": "code",
   "execution_count": 46,
   "id": "d3a2f6f3-4ce5-4922-9608-0010d2a590ed",
   "metadata": {},
   "outputs": [],
   "source": [
    "today = pd.to_datetime('2025-04-15')"
   ]
  },
  {
   "cell_type": "markdown",
   "id": "c9e46dd1-15e1-4ebe-8bf0-af5a35babcd8",
   "metadata": {},
   "source": [
    "### Adding 2 New Rows of Me"
   ]
  },
  {
   "cell_type": "code",
   "execution_count": 47,
   "id": "c1b3a69d-47b7-464a-9f44-df0cbfe8cce5",
   "metadata": {},
   "outputs": [],
   "source": [
    "new_rows = pd.DataFrame(\n",
    "    {'LastName': ['Wilson', 'Wilson'], \n",
    "     'FirstName': ['Dean', 'Dean'],\n",
    "     'PositionTitle': ['Safety Inspection Member', 'Acting Director'],\n",
    "     'HospitalID': ['46996', '37393'],\n",
    "     'Name': ['Ridgecrest Regional Hospital', 'Barstow Community Hospital'],\n",
    "     'Zip': ['93555', '92311'],\n",
    "     'TypeControl': ['Non Profit', 'Investor'],\n",
    "     'DonorType': ['Charity', 'Charity'],\n",
    "     'Teaching': ['Small/Rural', 'Small/Rural'],\n",
    "     'NoFTE': [400, 262],\n",
    "     'NetPatRev': [139170.38, 116797.83],\n",
    "     'InOperExp': [23385570.1, 13684502.49],\n",
    "     'OutOperExp': [24661355.9, 15159986.51],\n",
    "     'OperRev': [51087341, 42845642],\n",
    "     'OperInc': [3040415, 14001153],\n",
    "     'AvlBeds': [55, 42],\n",
    "     'Gender': ['M', 'M'],\n",
    "     'Compensation': [23987, 46978],\n",
    "     'MaxTerm': [2, 4],\n",
    "     'StartDate': ['4/15/2025', '4/15/2025'],\n",
    "     'Phone': ['951-585-7892', '951-4887-8956'],\n",
    "     'Email': ['FakeEmail@gmail.com', 'FakeEmail2@gmail.com']\n",
    "     \n",
    "    }, # Added myself twice as new rows (2) with the following information\n",
    ")\n",
    "new_merge = pd.concat([hospitalmerged_df, new_rows], ignore_index=True) # New dataframe where we have stacked the new rows with hospitalnew_df"
   ]
  },
  {
   "cell_type": "markdown",
   "id": "0220cdbd-8a0a-448c-b1d1-b50755a03fd4",
   "metadata": {},
   "source": [
    "### Date Errors Forced another Rename"
   ]
  },
  {
   "cell_type": "code",
   "execution_count": 48,
   "id": "9680cac2-216a-4c60-b1f2-904adfbb64c9",
   "metadata": {},
   "outputs": [],
   "source": [
    "new_merge.rename(columns = {\n",
    "    'NoFTE': 'FullTimeCount',\n",
    "    'NetPatRev': 'NetPatientRevenue',\n",
    "    'InOperExp': 'InpatientOperExp',\n",
    "    'OutOperExp': 'OutpatientOperExp',\n",
    "    'OperRev': 'Operating_Revenue',\n",
    "    'OperInc': 'Operating_Income'\n",
    "}, inplace=True) # Had to create another rename due to error with date conversion in previous rename, was unable to fix and CHATGpt couldnt solve it either."
   ]
  },
  {
   "cell_type": "markdown",
   "id": "4d368d8c-a936-4cc6-8ff4-f8835569f815",
   "metadata": {},
   "source": [
    "### Creating Filters From New Merge"
   ]
  },
  {
   "cell_type": "code",
   "execution_count": 49,
   "id": "67bf41dc-f0a0-417d-a4a8-bdf359052fed",
   "metadata": {},
   "outputs": [],
   "source": [
    "largehospitals_df= new_merge[\n",
    "    (new_merge['TypeControl'] == 'Non Profit') &\n",
    "    (new_merge['FullTimeCount'] > 250) &\n",
    "    (new_merge['NetPatientRevenue'] >= 109000)\n",
    "].copy() # Creating filter to show non profits only, 250 or more employees and net patient revenue over 109,000 and .copy to remove Settingwithcopywarning\n",
    "largehospitals_df.drop(\n",
    "    ['FirstName', 'LastName', 'PositionTitle', 'StartDate',\n",
    "     'Phone', 'Email', 'Compensation', 'MaxTerm', 'Gender'],\n",
    "    axis=1,\n",
    "    inplace=True\n",
    ") # Dropping all other columns for this filtered data"
   ]
  },
  {
   "cell_type": "code",
   "execution_count": 50,
   "id": "9e3f4789-ffe3-4f63-b748-83622d377ca4",
   "metadata": {},
   "outputs": [],
   "source": [
    "regrep_df= new_merge[\n",
    "    (new_merge['PositionTitle'] == 'Regional Representative') &\n",
    "    (new_merge['Operating_Income'] > 100000)\n",
    "].copy() # Creating filter to show Regional Representatives who have OpIncome of > 100,000, again used .copy to get past error"
   ]
  },
  {
   "cell_type": "markdown",
   "id": "22b19217-d3a2-4a19-b1c5-89633391bdd6",
   "metadata": {},
   "source": [
    "### Converting to DateTime"
   ]
  },
  {
   "cell_type": "code",
   "execution_count": 51,
   "id": "7158fd8a-59e4-4fba-88f4-83661f1e72cf",
   "metadata": {},
   "outputs": [],
   "source": [
    "new_merge['StartDate'] = pd.to_datetime(new_merge['StartDate'], errors='coerce') # Converted StartDate to datetime, had to include coerce to prevent NaT values"
   ]
  },
  {
   "cell_type": "code",
   "execution_count": 52,
   "id": "9a9f4c9a-9583-48a6-a87e-1f783a981b4b",
   "metadata": {},
   "outputs": [
    {
     "name": "stdout",
     "output_type": "stream",
     "text": [
      "HospitalID                   object\n",
      "Name                         object\n",
      "Zip                          object\n",
      "TypeControl                  object\n",
      "Teaching                     object\n",
      "DonorType                    object\n",
      "FullTimeCount               float64\n",
      "NetPatientRevenue           float64\n",
      "InpatientOperExp            float64\n",
      "OutpatientOperExp           float64\n",
      "Operating_Revenue             int64\n",
      "Operating_Income              int64\n",
      "AvlBeds                       int64\n",
      "LastName                     object\n",
      "FirstName                    object\n",
      "Gender                       object\n",
      "PositionTitle                object\n",
      "Compensation                  int64\n",
      "MaxTerm                       int64\n",
      "StartDate            datetime64[ns]\n",
      "Phone                        object\n",
      "Email                        object\n",
      "dtype: object\n"
     ]
    }
   ],
   "source": [
    "print(new_merge.dtypes)"
   ]
  },
  {
   "cell_type": "code",
   "execution_count": 53,
   "id": "1dfe3763-324c-41c6-95cf-7989dea75252",
   "metadata": {},
   "outputs": [
    {
     "name": "stdout",
     "output_type": "stream",
     "text": [
      "0   2012-01-01\n",
      "1   2009-01-01\n",
      "2   2012-01-01\n",
      "3   2009-01-01\n",
      "4   2011-01-01\n",
      "Name: StartDate, dtype: datetime64[ns]\n"
     ]
    }
   ],
   "source": [
    "print(new_merge['StartDate'].head())"
   ]
  },
  {
   "cell_type": "markdown",
   "id": "794360b1-aba6-4c81-98f8-503a239d5596",
   "metadata": {},
   "source": [
    "## References\n",
    "* OpenAI. (2025). ChatGPT (April 15 version) [Large language model]. https://chat.openai.com/share/67fefb16-1b04-8001-b964-697d7f6480ca\n",
    "\n",
    "* GeeksforGeeks. (2024, March 15). Formatting dates in Python. https://www.geeksforgeeks.org/formatting-dates-in-python/ # referenced this in chatgpt, ultimatley didn't use provided information for date issues\n",
    "\n",
    "* 07_Tutorial\n",
    "\n",
    "* 07_Instructor_Lab"
   ]
  }
 ],
 "metadata": {
  "kernelspec": {
   "display_name": "Python 3 (ipykernel)",
   "language": "python",
   "name": "python3"
  },
  "language_info": {
   "codemirror_mode": {
    "name": "ipython",
    "version": 3
   },
   "file_extension": ".py",
   "mimetype": "text/x-python",
   "name": "python",
   "nbconvert_exporter": "python",
   "pygments_lexer": "ipython3",
   "version": "3.13.2"
  }
 },
 "nbformat": 4,
 "nbformat_minor": 5
}
